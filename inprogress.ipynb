{
  "nbformat": 4,
  "nbformat_minor": 0,
  "metadata": {
    "colab": {
      "name": "Untitled7.ipynb",
      "provenance": [],
      "collapsed_sections": []
    },
    "kernelspec": {
      "name": "python3",
      "display_name": "Python 3"
    },
    "language_info": {
      "name": "python"
    }
  },
  "cells": [
    {
      "cell_type": "code",
      "source": [
        "with open('123.txt') as f:\n",
        "    lines = f.readlines()\n",
        "\n",
        "    print(lines)"
      ],
      "metadata": {
        "colab": {
          "base_uri": "https://localhost:8080/"
        },
        "id": "SeYaDY9g02iN",
        "outputId": "fd0e8bae-9566-41bd-be68-bf630ffbe37e"
      },
      "execution_count": null,
      "outputs": [
        {
          "output_type": "stream",
          "name": "stdout",
          "text": [
            "['there was a chicken in the barn']\n"
          ]
        }
      ]
    },
    {
      "cell_type": "code",
      "source": [
        "def remove_punc(string):\n",
        "    punc = '''!()-[]{};:'\"\\, <>./?@#$%^&*_~'''\n",
        "    for i in string:  \n",
        "        if i in punc:  \n",
        "            string = string.replace(i, \"\") \n",
        "    return string"
      ],
      "metadata": {
        "id": "W9Qw1K9Q0SX4"
      },
      "execution_count": null,
      "outputs": []
    },
    {
      "cell_type": "code",
      "execution_count": null,
      "metadata": {
        "colab": {
          "base_uri": "https://localhost:8080/"
        },
        "id": "scueO5igzWC1",
        "outputId": "67003ed8-a4cc-4b6c-f38c-1220a46b1840"
      },
      "outputs": [
        {
          "output_type": "stream",
          "name": "stdout",
          "text": [
            "enter paragrapha chicken and a cow\n",
            "paragraph : a chicken and a cow\n"
          ]
        }
      ],
      "source": [
        "info = input(\"enter paragraph\")\n",
        "print(\"paragraph : \" + info)"
      ]
    },
    {
      "cell_type": "code",
      "source": [
        ""
      ],
      "metadata": {
        "id": "tn6YU1Jn1t9P"
      },
      "execution_count": null,
      "outputs": []
    },
    {
      "cell_type": "markdown",
      "source": [
        "sstill working on the implementation part.... im not that fluent in coding"
      ],
      "metadata": {
        "id": "z8gQjuU-02SW"
      }
    }
  ]
}